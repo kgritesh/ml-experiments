{
 "cells": [
  {
   "cell_type": "code",
   "execution_count": null,
   "metadata": {},
   "outputs": [],
   "source": [
    "import torch\n",
    "from torch import nn\n",
    "\n",
    "\n",
    "class LSTMCell(nn.Module):\n",
    "    def __init__(self, input_size, hidden_size):\n",
    "        super().__init__()\n",
    "        self.input_size = input_size\n",
    "        self.hidden_size = hidden_size\n",
    "        self.Wf = nn.Linear(input_size + hidden_size, hidden_size)\n",
    "        self.Wi = nn.Linear(input_size + hidden_size, hidden_size)\n",
    "        self.Wc = nn.Linear(input_size + hidden_size, hidden_size)\n",
    "        self.Wo = nn.Linear(input_size + hidden_size, hidden_size)\n",
    "        \n",
    "    def forward(self, input, init_states):\n",
    "        h_o, c_o = init_states\n",
    "        \n",
    "        combined = torch.cat((input, h_o), 1)\n",
    "        f_gate = torch.sigmoid(self.Wf(combined))\n",
    "        i_gate = torch.sigmoid(self.Wi(combined))\n",
    "        c_tilda = torch.tanh(self.Wc(combined))    \n",
    "        c_n = f_gate*c_o + i_gate*c_tilda\n",
    "        o_n = torch.sigmoid(self.Wo(combined))\n",
    "        h_n = o_n * torch.tanh(c_n)\n",
    "        return h_n, c_n\n",
    "    \n",
    "    \n",
    "class LSTMNetwork(nn.Module):\n",
    "    def __init__(self, input_size, hidden_size, output_size):\n",
    "        super().__init__()\n",
    "        self.hidden_size = hidden_size\n",
    "        self.cell = LSTMCell(input_size, output_size)\n",
    "        self.linear = nn.Linear(hidden_size, output_size)\n",
    "        \n",
    "        \n",
    "    def forward(self, x):\n",
    "        hidden = torch.zeros(x.size(0), self.hidden_size)\n",
    "        cell_state = torch.zeros(x.size(0), self.hidden_size)\n",
    "        \n",
    "        for i in range(x.size(1)):\n",
    "            input = x[:, i]\n",
    "            init_state = (hidden, cell_state)\n",
    "            hidden, cell_state = self.cell(input, init_state)\n",
    "            \n",
    "        output = self.linear(hidden)        \n",
    "        return output\n",
    "        \n",
    "        "
   ]
  }
 ],
 "metadata": {
  "kernelspec": {
   "display_name": ".venv",
   "language": "python",
   "name": "python3"
  },
  "language_info": {
   "name": "python",
   "version": "3.11.6"
  },
  "orig_nbformat": 4
 },
 "nbformat": 4,
 "nbformat_minor": 2
}
